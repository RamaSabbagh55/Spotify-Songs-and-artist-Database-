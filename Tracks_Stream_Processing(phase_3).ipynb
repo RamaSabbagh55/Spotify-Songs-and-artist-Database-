{
  "cells": [
    {
      "cell_type": "markdown",
      "id": "c2d40d57",
      "metadata": {
        "id": "c2d40d57"
      },
      "source": [
        "\n",
        "# Phase 3: Stream Processing\n"
      ]
    },
    {
      "cell_type": "code",
      "execution_count": 1,
      "id": "795ca1ae",
      "metadata": {
        "id": "795ca1ae"
      },
      "outputs": [],
      "source": [
        "\n",
        "# Install PySpark\n",
        "!pip install -q pyspark\n"
      ]
    },
    {
      "cell_type": "code",
      "execution_count": 2,
      "id": "041f3378",
      "metadata": {
        "colab": {
          "base_uri": "https://localhost:8080/"
        },
        "id": "041f3378",
        "outputId": "f760cf49-244e-4fc7-e63f-a444fb894f74"
      },
      "outputs": [
        {
          "output_type": "stream",
          "name": "stdout",
          "text": [
            "+---+\n",
            "| id|\n",
            "+---+\n",
            "|  0|\n",
            "|  1|\n",
            "|  2|\n",
            "|  3|\n",
            "|  4|\n",
            "+---+\n",
            "\n"
          ]
        }
      ],
      "source": [
        "\n",
        "# Start SparkSession (no need for manual config)\n",
        "from pyspark.sql import SparkSession\n",
        "\n",
        "spark = SparkSession.builder.appName(\"SongsStreamLab\").getOrCreate()\n",
        "\n",
        "# Test it works\n",
        "spark.range(5).show()\n"
      ]
    },
    {
      "cell_type": "markdown",
      "id": "db4703e7",
      "metadata": {
        "id": "db4703e7"
      },
      "source": [
        "## Simulate a data stream (e.g., JSON or CSV)"
      ]
    },
    {
      "cell_type": "code",
      "execution_count": 3,
      "id": "910ab369",
      "metadata": {
        "colab": {
          "base_uri": "https://localhost:8080/"
        },
        "id": "910ab369",
        "outputId": "51e859e6-6586-4d13-e63b-96332ba26f00"
      },
      "outputs": [
        {
          "output_type": "stream",
          "name": "stdout",
          "text": [
            "+--------+-----------+-------------------+---------+-----------------+--------------------+--------------------+-----------+------------+-----------+--------+----------------+------+----+\n",
            "|track_ID|artist_name|             genres|followers|artist_popularity|          artist_url|          track_name| album_name|release_date|duration_ms|explicit|track_popularity|energy|mode|\n",
            "+--------+-----------+-------------------+---------+-----------------+--------------------+--------------------+-----------+------------+-----------+--------+----------------+------+----+\n",
            "|     101| Ed Sheeran|      [pop, uk pop]| 93639154|               96|https://open.spot...|             Shivers|          =|  2021-09-10|     207320|   false|              83| 0.834|   1|\n",
            "|     102|    Nirvana|     [grunge, rock]| 16802723|               87|https://open.spot...|Smells Like Teen ...|  Nevermind|  1991-09-10|     301933|    true|              83| 0.587|   1|\n",
            "|     103| The Weeknd|[canadian pop, r&b]| 51478288|               98|https://open.spot...|     Blinding Lights|After Hours|  2019-11-29|     200040|   false|              94|  0.73|   1|\n",
            "|     104|     Eminem|     [hip hop, rap]| 50367072|               97|https://open.spot...|       Lose Yourself|     8 Mile|  2002-10-28|     326693|    true|              89| 0.846|   1|\n",
            "+--------+-----------+-------------------+---------+-----------------+--------------------+--------------------+-----------+------------+-----------+--------+----------------+------+----+\n",
            "\n"
          ]
        }
      ],
      "source": [
        "\n",
        "# Simulate tracks/songs records (like CSV rows)\n",
        "data = [\n",
        "    (\"101\", \"Ed Sheeran\", [\"pop\", \"uk pop\"], 93639154, 96, \"https://open.spotify.com/artist/6eUKZXaKkcviH0Ku9w2n3V\", \"Shivers\", \"=\", \"2021-09-10\", 207320, False, 83, 0.834, 1),\n",
        "    (\"102\", \"Nirvana\", [\"grunge\", \"rock\"], 16802723, 87, \"https://open.spotify.com/artist/6olE6TJLqED3rqDCT0FyPh\", \"Smells Like Teen Spirit\", \"Nevermind\", \"1991-09-10\", 301933, True, 83, 0.587, 1),\n",
        "    (\"103\", \"The Weeknd\", [\"canadian pop\", \"r&b\"], 51478288, 98, \"https://open.spotify.com/artist/1Xyo4u8uXC1ZmMpatF05PJ\", \"Blinding Lights\", \"After Hours\", \"2019-11-29\", 200040, False, 94, 0.73, 1),\n",
        "    (\"104\", \"Eminem\", [\"hip hop\", \"rap\"], 50367072, 97, \"https://open.spotify.com/artist/7dGJo4pcD2V6oG8kP0tJRR\", \"Lose Yourself\", \"8 Mile\", \"2002-10-28\", 326693, True, 89, 0.846, 1)\n",
        "]\n",
        "\n",
        "columns = [\n",
        "    \"track_ID\", \"artist_name\", \"genres\", \"followers\", \"artist_popularity\", \"artist_url\",\n",
        "    \"track_name\", \"album_name\", \"release_date\", \"duration_ms\", \"explicit\",\n",
        "    \"track_popularity\", \"energy\", \"mode\"\n",
        "]\n",
        "\n",
        "# Create DataFrame\n",
        "df = spark.createDataFrame(data, columns)\n",
        "df.show()\n"
      ]
    },
    {
      "cell_type": "markdown",
      "id": "012347cb",
      "metadata": {
        "id": "012347cb"
      },
      "source": [
        "## Use PySpark to filter and process the data"
      ]
    },
    {
      "cell_type": "code",
      "execution_count": 4,
      "id": "3b2c133d",
      "metadata": {
        "colab": {
          "base_uri": "https://localhost:8080/"
        },
        "id": "3b2c133d",
        "outputId": "522be909-8f03-429a-8cca-17f2933911ac"
      },
      "outputs": [
        {
          "output_type": "stream",
          "name": "stdout",
          "text": [
            "+--------+-----------+-------------------+---------+-----------------+--------------------+---------------+-----------+------------+-----------+--------+----------------+------+----+\n",
            "|track_ID|artist_name|             genres|followers|artist_popularity|          artist_url|     track_name| album_name|release_date|duration_ms|explicit|track_popularity|energy|mode|\n",
            "+--------+-----------+-------------------+---------+-----------------+--------------------+---------------+-----------+------------+-----------+--------+----------------+------+----+\n",
            "|     103| The Weeknd|[canadian pop, r&b]| 51478288|               98|https://open.spot...|Blinding Lights|After Hours|  2019-11-29|     200040|   false|              94|  0.73|   1|\n",
            "|     104|     Eminem|     [hip hop, rap]| 50367072|               97|https://open.spot...|  Lose Yourself|     8 Mile|  2002-10-28|     326693|    true|              89| 0.846|   1|\n",
            "+--------+-----------+-------------------+---------+-----------------+--------------------+---------------+-----------+------------+-----------+--------+----------------+------+----+\n",
            "\n"
          ]
        }
      ],
      "source": [
        "\n",
        "# Filter high popularity tracks/songs\n",
        "popular_tracks = df.filter(df[\"track_popularity\"] >= 85)\n",
        "popular_tracks.show()\n"
      ]
    },
    {
      "cell_type": "code",
      "source": [
        "# Filter tracks/songs that are explicit\n",
        "explicit_tracks = df.filter(df[\"explicit\"] == True)\n",
        "explicit_tracks.show()"
      ],
      "metadata": {
        "colab": {
          "base_uri": "https://localhost:8080/"
        },
        "id": "Ee8bXkZZHS2w",
        "outputId": "2e8c655a-726e-4eb6-931f-1d426351444b"
      },
      "id": "Ee8bXkZZHS2w",
      "execution_count": 5,
      "outputs": [
        {
          "output_type": "stream",
          "name": "stdout",
          "text": [
            "+--------+-----------+--------------+---------+-----------------+--------------------+--------------------+----------+------------+-----------+--------+----------------+------+----+\n",
            "|track_ID|artist_name|        genres|followers|artist_popularity|          artist_url|          track_name|album_name|release_date|duration_ms|explicit|track_popularity|energy|mode|\n",
            "+--------+-----------+--------------+---------+-----------------+--------------------+--------------------+----------+------------+-----------+--------+----------------+------+----+\n",
            "|     102|    Nirvana|[grunge, rock]| 16802723|               87|https://open.spot...|Smells Like Teen ...| Nevermind|  1991-09-10|     301933|    true|              83| 0.587|   1|\n",
            "|     104|     Eminem|[hip hop, rap]| 50367072|               97|https://open.spot...|       Lose Yourself|    8 Mile|  2002-10-28|     326693|    true|              89| 0.846|   1|\n",
            "+--------+-----------+--------------+---------+-----------------+--------------------+--------------------+----------+------------+-----------+--------+----------------+------+----+\n",
            "\n"
          ]
        }
      ]
    },
    {
      "cell_type": "code",
      "source": [
        "# Filter tracks/songs with energy greater than 0.8\n",
        "high_energy_tracks = df.filter(df[\"energy\"] > 0.8)\n",
        "high_energy_tracks.show()"
      ],
      "metadata": {
        "colab": {
          "base_uri": "https://localhost:8080/"
        },
        "id": "9rC-KBy6H5yC",
        "outputId": "54c0bb19-2f60-4c60-b4e6-bce68bd4db8a"
      },
      "id": "9rC-KBy6H5yC",
      "execution_count": 6,
      "outputs": [
        {
          "output_type": "stream",
          "name": "stdout",
          "text": [
            "+--------+-----------+--------------+---------+-----------------+--------------------+-------------+----------+------------+-----------+--------+----------------+------+----+\n",
            "|track_ID|artist_name|        genres|followers|artist_popularity|          artist_url|   track_name|album_name|release_date|duration_ms|explicit|track_popularity|energy|mode|\n",
            "+--------+-----------+--------------+---------+-----------------+--------------------+-------------+----------+------------+-----------+--------+----------------+------+----+\n",
            "|     101| Ed Sheeran| [pop, uk pop]| 93639154|               96|https://open.spot...|      Shivers|         =|  2021-09-10|     207320|   false|              83| 0.834|   1|\n",
            "|     104|     Eminem|[hip hop, rap]| 50367072|               97|https://open.spot...|Lose Yourself|    8 Mile|  2002-10-28|     326693|    true|              89| 0.846|   1|\n",
            "+--------+-----------+--------------+---------+-----------------+--------------------+-------------+----------+------------+-----------+--------+----------------+------+----+\n",
            "\n"
          ]
        }
      ]
    },
    {
      "cell_type": "markdown",
      "id": "eec6a133",
      "metadata": {
        "id": "eec6a133"
      },
      "source": [
        "## Save or display the processed output of the popular tracks"
      ]
    },
    {
      "cell_type": "code",
      "source": [
        "from pyspark.sql.functions import concat_ws\n",
        "\n",
        "# Convert the 'genres' column to a comma-separated string\n",
        "popular_tracks = popular_tracks.withColumn(\"genres\", concat_ws(\",\", \"genres\"))\n",
        "\n",
        "# Save to local folder (inside Colab environment)\n",
        "output_path = \"/content/sample_data\"\n",
        "popular_tracks.write.mode(\"overwrite\").csv(output_path)\n",
        "\n",
        "# Verify file was saved\n",
        "import os\n",
        "print(\"Files saved to:\", os.listdir(output_path))"
      ],
      "metadata": {
        "colab": {
          "base_uri": "https://localhost:8080/"
        },
        "id": "DyFp9dgEN1_Q",
        "outputId": "01eb3448-fda3-48b4-dd7f-e1ea73818430"
      },
      "id": "DyFp9dgEN1_Q",
      "execution_count": 13,
      "outputs": [
        {
          "output_type": "stream",
          "name": "stdout",
          "text": [
            "Files saved to: ['part-00000-4c195de9-0654-45a9-8b75-a237b340e037-c000.csv', '_SUCCESS', '._SUCCESS.crc', 'part-00001-4c195de9-0654-45a9-8b75-a237b340e037-c000.csv', '.part-00000-4c195de9-0654-45a9-8b75-a237b340e037-c000.csv.crc', '.part-00001-4c195de9-0654-45a9-8b75-a237b340e037-c000.csv.crc']\n"
          ]
        }
      ]
    }
  ],
  "metadata": {
    "colab": {
      "provenance": []
    },
    "language_info": {
      "name": "python"
    },
    "kernelspec": {
      "name": "python3",
      "display_name": "Python 3"
    }
  },
  "nbformat": 4,
  "nbformat_minor": 5
}